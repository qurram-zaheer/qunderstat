{
 "cells": [
  {
   "cell_type": "code",
   "execution_count": 1,
   "metadata": {},
   "outputs": [],
   "source": [
    "import numpy as np  # linear algebra\n",
    "import pandas as pd  # data processing, CSV file I/O (e.g. pd.read_csv)\n",
    "import requests\n",
    "from bs4 import BeautifulSoup\n",
    "from tqdm import tqdm\n",
    "import json\n",
    "import re\n",
    "from copy import deepcopy\n",
    "import time"
   ]
  },
  {
   "cell_type": "code",
   "execution_count": 2,
   "metadata": {},
   "outputs": [],
   "source": [
    "BASE_URL = 'https://understat.com/match/'\n"
   ]
  },
  {
   "cell_type": "code",
   "execution_count": 3,
   "metadata": {},
   "outputs": [],
   "source": [
    "final_events = []"
   ]
  },
  {
   "cell_type": "code",
   "execution_count": 4,
   "metadata": {},
   "outputs": [],
   "source": [
    "def format_info(raw_string):\n",
    "\tpattern = r\"'(.+?)(?=')\"\n",
    "\tpattern_capture = re.findall(pattern, raw_string)[0]\n",
    "\tpattern_capture = pattern_capture.encode('utf-8').decode('unicode_escape')\n",
    "\treturn json.loads(pattern_capture)\n",
    "\n",
    "def process_team_events(timeline_div, team, match_id):\n",
    "\tevents = []\n",
    "\tfor e in timeline_div.find_all(\"div\", class_=\"timeline-row\"):\n",
    "\n",
    "\t\tevent_type = e.find(\"i\")['title']\n",
    "\t\tif event_type is None:\n",
    "\t\t\tcontinue\n",
    "\t\tevent_obj = {}\n",
    "\t\tif event_type == \"Substitution\":\n",
    "\t\t\tplayers = e.find_all(\"a\", class_=\"player-name\")\n",
    "\t\t\tevent_obj[\"p1\"] = players[0]['href'].split(\"/\")[-1]\n",
    "\t\t\tevent_obj[\"p2\"] = players[1]['href'].split(\"/\")[-1]\n",
    "\t\telse:\n",
    "\t\t\tplayer = e.find(\"a\", class_=\"player-name\")\n",
    "\t\t\tevent_obj[\"p1\"] = player['href'].split(\"/\")[-1]\n",
    "\t\tevent_obj[\"type\"] = event_type\n",
    "\t\tevent_obj[\"minute\"] = minute\n",
    "\t\tevent_obj[\"team\"] = team\n",
    "\t\tevent_obj[\"match_id\"] = match_id\n",
    "\t\tevents.append(event_obj)\n",
    "\treturn events"
   ]
  },
  {
   "cell_type": "code",
   "execution_count": 6,
   "metadata": {},
   "outputs": [
    {
     "name": "stderr",
     "output_type": "stream",
     "text": [
      "100%|██████████| 1485/1485 [19:34<00:00,  1.26it/s]\n"
     ]
    }
   ],
   "source": [
    "for match_id in tqdm(range(16677, 18162)):\n",
    "\ttime.sleep(0.217)\n",
    "\turl = f\"{BASE_URL}{match_id}\"\n",
    "\tres = requests.get(url)\n",
    "\tsoup = BeautifulSoup(res.content, \"lxml\")\n",
    "\ttry:\n",
    "\t\ttimeline = soup.find(\"div\", class_=\"timiline-block\")\n",
    "\t\tteams = []\n",
    "\t\tresult_span = soup.find(\"span\", class_=\"block-match-result\")\n",
    "\t\tfor a in result_span.find_all(\"a\"):\n",
    "\t\t\tteams.append(a.text)\n",
    "\n",
    "\n",
    "\t\tmatch_events = timeline.find_all(\"div\", class_=\"timiline-container\")\n",
    "\n",
    "\n",
    "\t\tfor event in match_events:\n",
    "\t\t\tt1_event_raw = event.find(\"div\", class_=\"timeline-left\")\n",
    "\t\t\tt2_event_raw = event.find(\"div\", class_=\"timeline-right\")\n",
    "\t\t\tminute = event.find(\"span\", class_=\"minute-value\").text[:-1]\n",
    "\n",
    "\t\t\tfinal_events += process_team_events(t1_event_raw, teams[0], match_id)\n",
    "\t\t\tfinal_events += process_team_events(t2_event_raw, teams[1], match_id)\n",
    "\texcept Exception as e:\n",
    "\t\twith open(\"event_exceptions.log\", \"a\") as f:\n",
    "\t\t\tf.write('player_id: {}, exception: {}, request_status: {}\\n'.format(\n",
    "\t\t\t\tmatch_id, str(e), res.status_code))\n"
   ]
  },
  {
   "cell_type": "code",
   "execution_count": 70,
   "metadata": {},
   "outputs": [],
   "source": []
  },
  {
   "cell_type": "code",
   "execution_count": 71,
   "metadata": {},
   "outputs": [
    {
     "data": {
      "text/plain": [
       "[{'p1': '6', 'type': 'Goal', 'minute': '30', 'team': 'Darmstadt'},\n",
       " {'p1': '93', 'type': 'Yellow card', 'minute': '33', 'team': 'Hannover 96'},\n",
       " {'p1': '103', 'type': 'Goal', 'minute': '47', 'team': 'Hannover 96'},\n",
       " {'p1': '350',\n",
       "  'p2': '103',\n",
       "  'type': 'Substitution',\n",
       "  'minute': '47',\n",
       "  'team': 'Hannover 96'},\n",
       " {'p1': '6', 'type': 'Goal', 'minute': '53', 'team': 'Darmstadt'},\n",
       " {'p1': '4', 'type': 'Yellow card', 'minute': '57', 'team': 'Darmstadt'},\n",
       " {'p1': '104',\n",
       "  'type': 'Penalty missed',\n",
       "  'minute': '58',\n",
       "  'team': 'Hannover 96'},\n",
       " {'p1': '4', 'type': 'Own goal', 'minute': '61', 'team': 'Darmstadt'},\n",
       " {'p1': '13',\n",
       "  'p2': '9',\n",
       "  'type': 'Substitution',\n",
       "  'minute': '66',\n",
       "  'team': 'Darmstadt'},\n",
       " {'p1': '14',\n",
       "  'p2': '10',\n",
       "  'type': 'Substitution',\n",
       "  'minute': '73',\n",
       "  'team': 'Darmstadt'},\n",
       " {'p1': '104',\n",
       "  'p2': '349',\n",
       "  'type': 'Substitution',\n",
       "  'minute': '74',\n",
       "  'team': 'Hannover 96'},\n",
       " {'p1': '349', 'type': 'Yellow card', 'minute': '78', 'team': 'Hannover 96'},\n",
       " {'p1': '108',\n",
       "  'p2': '99',\n",
       "  'type': 'Substitution',\n",
       "  'minute': '82',\n",
       "  'team': 'Hannover 96'},\n",
       " {'p1': '16',\n",
       "  'p2': '11',\n",
       "  'type': 'Substitution',\n",
       "  'minute': '88',\n",
       "  'team': 'Darmstadt'}]"
      ]
     },
     "execution_count": 71,
     "metadata": {},
     "output_type": "execute_result"
    }
   ],
   "source": [
    "81, 18161"
   ]
  },
  {
   "cell_type": "code",
   "execution_count": 7,
   "metadata": {},
   "outputs": [],
   "source": [
    "df = pd.DataFrame(final_events)\n",
    "df.to_csv(\"events/chunk2.csv\")"
   ]
  },
  {
   "cell_type": "code",
   "execution_count": 9,
   "metadata": {},
   "outputs": [
    {
     "data": {
      "text/plain": [
       "(64246, 6)"
      ]
     },
     "execution_count": 9,
     "metadata": {},
     "output_type": "execute_result"
    }
   ],
   "source": [
    "df.shape"
   ]
  },
  {
   "cell_type": "code",
   "execution_count": null,
   "metadata": {},
   "outputs": [],
   "source": []
  }
 ],
 "metadata": {
  "interpreter": {
   "hash": "7caa558ac1ec4431671b5a2dff570158c402df94a34ac7616ce11c70673fcc3d"
  },
  "kernelspec": {
   "display_name": "Python 3.10.2 64-bit",
   "language": "python",
   "name": "python3"
  },
  "language_info": {
   "codemirror_mode": {
    "name": "ipython",
    "version": 3
   },
   "file_extension": ".py",
   "mimetype": "text/x-python",
   "name": "python",
   "nbconvert_exporter": "python",
   "pygments_lexer": "ipython3",
   "version": "3.10.2"
  },
  "orig_nbformat": 4
 },
 "nbformat": 4,
 "nbformat_minor": 2
}
