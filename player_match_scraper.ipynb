{
 "cells": [
  {
   "cell_type": "code",
   "execution_count": 1,
   "metadata": {},
   "outputs": [],
   "source": [
    "from bs4 import BeautifulSoup\n",
    "import numpy as np\n",
    "import pandas as pd\n",
    "from urllib.request import urlopen\n",
    "import matplotlib.pyplot as plt\n",
    "from selenium import webdriver\n",
    "from selenium.webdriver.common.keys import Keys\n",
    "from selenium.webdriver.common.by import By\n",
    "import time\n",
    "from tqdm import tqdm"
   ]
  },
  {
   "cell_type": "code",
   "execution_count": 2,
   "metadata": {},
   "outputs": [],
   "source": [
    "years = [x for x in range(2014,2022)]\n",
    "leagues = ['EPL', 'La_liga', 'Bundesliga', 'Serie_A', 'Ligue_1']"
   ]
  },
  {
   "cell_type": "code",
   "execution_count": 3,
   "metadata": {},
   "outputs": [],
   "source": [
    "BASE_URL = 'https://understat.com/player/{}'\n"
   ]
  },
  {
   "cell_type": "code",
   "execution_count": 4,
   "metadata": {},
   "outputs": [
    {
     "name": "stderr",
     "output_type": "stream",
     "text": [
      "C:\\Users\\qurra\\AppData\\Local\\Temp\\ipykernel_10996\\2299280398.py:1: DeprecationWarning: executable_path has been deprecated, please pass in a Service object\n",
      "  driver = webdriver.Chrome('./chromedriver')\n"
     ]
    }
   ],
   "source": [
    "driver = webdriver.Chrome('./chromedriver')"
   ]
  },
  {
   "cell_type": "code",
   "execution_count": 6,
   "metadata": {},
   "outputs": [
    {
     "name": "stderr",
     "output_type": "stream",
     "text": [
      "100%|██████████| 3739/3739 [2:34:42<00:00,  2.48s/it]  \n"
     ]
    }
   ],
   "source": [
    "for player_id in tqdm(range(5741,9480)):\n",
    "    driver.get(BASE_URL.format(player_id))\n",
    "    time.sleep(0.5)\n",
    "    table = []\n",
    "    page_nums = -1\n",
    "\n",
    "    try:\n",
    "        while(True):\n",
    "            html = driver.page_source\n",
    "            soup = BeautifulSoup(html, 'html.parser')\n",
    "            player_table = soup.find('div', id='player-history')\n",
    "            if page_nums == -1:\n",
    "                player_table_head = player_table.find('thead')\n",
    "                columns = [x.get_text() for x in player_table_head.find_all('span')]\n",
    "                columns[3] = 'match_url'\n",
    "                columns[0] = 'No.'\n",
    "                pages = soup.find_all('li', class_='page')\n",
    "                if len(pages) == 0:\n",
    "                    with open(\"exceptions.log\", \"a\") as f:\n",
    "                        f.write(\"player_id: {}, exception: no records found\\n\".format(player_id))\n",
    "                    break\n",
    "                page_nums = int(pages[-1].string)\n",
    "            current_page_num = int(soup.find('li', class_='current')['data-page'])\n",
    "            player_table_body = player_table.find('tbody')\n",
    "            for index, tr in enumerate(player_table_body.find_all('tr')):\n",
    "                row = []\n",
    "                empty_row_flag = 0\n",
    "                for i, td in enumerate(tr.find_all('td')):\n",
    "                    if i == 0 and td.get_text() == '':\n",
    "                        empty_row_flag = 1\n",
    "                        break\n",
    "                    if i == 2 or i == 4:\n",
    "                        row.append(td.string)\n",
    "                    elif i == 3:\n",
    "                        row.append(td.find('a')['href'])\n",
    "                    else:\n",
    "                        row.append(td.get_text())\n",
    "                if empty_row_flag == 0:\n",
    "                    table.append(row)\n",
    "            if current_page_num == page_nums:\n",
    "                break\n",
    "            css_selector = \"li[data-page='{}']\".format(current_page_num+1)\n",
    "            next_page_btn = driver.find_element(by=By.CSS_SELECTOR, value=css_selector)\n",
    "            next_page_btn.click()\n",
    "\n",
    "        if len(table) != 0:\n",
    "            table_df = pd.DataFrame(table)\n",
    "            table_df.columns=columns\n",
    "            table_df.set_index\n",
    "\n",
    "            table_df.to_csv('players/{}.csv'.format(player_id))\n",
    "    \n",
    "    except Exception as exception_message:\n",
    "        with open(\"exceptions.log\", \"a\") as f:\n",
    "            f.write(\n",
    "                'player_id: {}, exception: {}\\n'.format(player_id, str(exception_message)))\n",
    "    \n",
    "    time.sleep(1.1)"
   ]
  },
  {
   "cell_type": "code",
   "execution_count": null,
   "metadata": {},
   "outputs": [],
   "source": []
  }
 ],
 "metadata": {
  "interpreter": {
   "hash": "7caa558ac1ec4431671b5a2dff570158c402df94a34ac7616ce11c70673fcc3d"
  },
  "kernelspec": {
   "display_name": "Python 3.10.2 64-bit",
   "language": "python",
   "name": "python3"
  },
  "language_info": {
   "codemirror_mode": {
    "name": "ipython",
    "version": 3
   },
   "file_extension": ".py",
   "mimetype": "text/x-python",
   "name": "python",
   "nbconvert_exporter": "python",
   "pygments_lexer": "ipython3",
   "version": "3.10.2"
  },
  "orig_nbformat": 4
 },
 "nbformat": 4,
 "nbformat_minor": 2
}
