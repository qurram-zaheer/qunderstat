{
 "cells": [
  {
   "cell_type": "code",
   "execution_count": 2,
   "metadata": {},
   "outputs": [],
   "source": [
    "import numpy as np  # linear algebra\n",
    "import pandas as pd  # data processing, CSV file I/O (e.g. pd.read_csv)\n",
    "import requests\n",
    "from bs4 import BeautifulSoup\n",
    "from tqdm import tqdm\n",
    "import json\n",
    "import re\n",
    "from copy import deepcopy\n",
    "import time"
   ]
  },
  {
   "cell_type": "code",
   "execution_count": 3,
   "metadata": {},
   "outputs": [],
   "source": [
    "years = [x for x in range(2014, 2022)]\n",
    "leagues = ['EPL', 'La_liga', 'Bundesliga', 'Serie_A', 'Ligue_1']"
   ]
  },
  {
   "cell_type": "code",
   "execution_count": 4,
   "metadata": {},
   "outputs": [],
   "source": [
    "BASE_URL = 'https://understat.com/player/'"
   ]
  },
  {
   "cell_type": "code",
   "execution_count": 8,
   "metadata": {},
   "outputs": [],
   "source": [
    "url = f\"{BASE_URL}6\"\n",
    "res = requests.get(url)\n",
    "soup = BeautifulSoup(res.content, \"lxml\")\n",
    "\n",
    "scripts = soup.find_all(\"script\")"
   ]
  },
  {
   "cell_type": "code",
   "execution_count": 6,
   "metadata": {},
   "outputs": [],
   "source": [
    "def format_info(shots_string):\n",
    "\tpattern = r\"'(.+?)(?=')\"\n",
    "\tpattern_capture = re.findall(pattern, shots_string)[0]\n",
    "\tpattern_capture = pattern_capture.encode('utf-8').decode('unicode_escape')\n",
    "\treturn json.loads(pattern_capture)"
   ]
  },
  {
   "cell_type": "code",
   "execution_count": 13,
   "metadata": {},
   "outputs": [
    {
     "name": "stderr",
     "output_type": "stream",
     "text": [
      "100%|██████████| 4739/4739 [1:47:39<00:00,  1.36s/it]  \n"
     ]
    }
   ],
   "source": [
    "for player_id in tqdm(range(1,4740)):\n",
    "\tshot_list = []\n",
    "\ttime.sleep(0.717)\n",
    "\turl = f\"{BASE_URL}{player_id}\"\n",
    "\ttry:\n",
    "\t\tres = requests.get(url)\n",
    "\t\tif (res.status_code != 200):\n",
    "\t\t\twith open(\"exceptions.log\", \"a\") as f:\n",
    "\t\t\t\tf.write('player_id: {}, exception: 404\\n'.format(\n",
    "\t\t\t\t\tplayer_id))\n",
    "\t\tsoup = BeautifulSoup(res.content, \"lxml\")\n",
    "\t\tscripts = soup.find_all(\"script\")\n",
    "\t\tshots_json = \"\"\n",
    "\t\tfor el in scripts:\n",
    "\t\t\tif \"shotsData\" in el.text:\n",
    "\t\t\t\tfull_script_string = el.text.strip()\n",
    "\t\t\t\tshots_info = full_script_string.split(\"),\")[0]\n",
    "\t\t\t\tplayer_info = full_script_string.split(\"),\")[1]\n",
    "\t\t\t\tshots_json = format_info(shots_info)\n",
    "\t\t\t\tplayer_json = format_info(player_info)\n",
    "\t\t\t\tdf_obj = deepcopy(shots_json)\n",
    "\t\t\t\tfor entry in shots_json:\n",
    "\t\t\t\t\tentry[\"Player Name\"] = player_json[\"name\"]\n",
    "\t\t\t\t\tentry[\"Player ID\"] = player_json[\"id\"]\n",
    "\t\t\t\t\tshot_list.append(entry)\n",
    "\t\tdf = pd.DataFrame(shot_list)\n",
    "\t\tdf.to_csv(f\"shots/{player_id}.csv\")\n",
    "\texcept Exception as exception_message:\n",
    "\t\twith open(\"exceptions.log\", \"a\") as f:\n",
    "\t\t\tf.write('player_id: {}, exception: {}\\n'.format(\n",
    "\t\t\t\tplayer_id, str(exception_message)))\n"
   ]
  },
  {
   "cell_type": "code",
   "execution_count": 57,
   "metadata": {},
   "outputs": [],
   "source": [
    "df = pd.DataFrame(shot_list)"
   ]
  },
  {
   "cell_type": "code",
   "execution_count": 58,
   "metadata": {},
   "outputs": [
    {
     "data": {
      "text/plain": [
       "(805715, 22)"
      ]
     },
     "execution_count": 58,
     "metadata": {},
     "output_type": "execute_result"
    }
   ],
   "source": [
    "df.shape"
   ]
  },
  {
   "cell_type": "code",
   "execution_count": 59,
   "metadata": {},
   "outputs": [],
   "source": [
    "df.to_csv(\"shots/shot_data.csv\")"
   ]
  },
  {
   "cell_type": "code",
   "execution_count": 54,
   "metadata": {},
   "outputs": [
    {
     "data": {
      "text/plain": [
       "(402815, 22)"
      ]
     },
     "execution_count": 54,
     "metadata": {},
     "output_type": "execute_result"
    }
   ],
   "source": [
    "df.shape"
   ]
  },
  {
   "cell_type": "code",
   "execution_count": 10,
   "metadata": {},
   "outputs": [
    {
     "name": "stdout",
     "output_type": "stream",
     "text": [
      "[{'id': '76286', 'minute': '30', 'result': 'Goal', 'X': '0.875', 'Y': '0.6270000076293946', 'xG': '0.16227774322032928', 'player': 'Marcel Heller', 'h_a': 'h', 'player_id': '6', 'situation': 'OpenPlay', 'season': '2015', 'shotType': 'RightFoot', 'match_id': '1026', 'h_team': 'Darmstadt', 'a_team': 'Hannover 96', 'h_goals': '2', 'a_goals': '2', 'date': '2015-08-15 17:30:00', 'player_assisted': 'Marco Sailer', 'lastAction': 'TakeOn'}, {'id': '76292', 'minute': '53', 'result': 'Goal', 'X': '0.9169999694824219', 'Y': '0.3120000076293945', 'xG': '0.5297272801399231', 'player': 'Marcel Heller', 'h_a': 'h', 'player_id': '6', 'situation': 'OpenPlay', 'season': '2015', 'shotType': 'RightFoot', 'match_id': '1026', 'h_team': 'Darmstadt', 'a_team': 'Hannover 96', 'h_goals': '2', 'a_goals': '2', 'date': '2015-08-15 17:30:00', 'player_assisted': None, 'lastAction': 'TakeOn'}, {'id': '76321', 'minute': '47', 'result': 'BlockedShot', 'X': '0.9359999847412109', 'Y': '0.325', 'xG': '0.07438134402036667', 'player': 'Marcel Heller', 'h_a': 'a', 'player_id': '6', 'situation': 'OpenPlay', 'season': '2015', 'shotType': 'LeftFoot', 'match_id': '1032', 'h_team': 'Schalke 04', 'a_team': 'Darmstadt', 'h_goals': '1', 'a_goals': '1', 'date': '2015-08-22 17:30:00', 'player_assisted': 'Peter Niemeyer', 'lastAction': 'TakeOn'}, {'id': '77191', 'minute': '31', 'result': 'MissedShots', 'X': '0.96', 'Y': '0.3340000152587891', 'xG': '0.052457962185144424', 'player': 'Marcel Heller', 'h_a': 'h', 'player_id': '6', 'situation': 'OpenPlay', 'season': '2015', 'shotType': 'RightFoot', 'match_id': '1058', 'h_team': 'Darmstadt', 'a_team': 'Bayern Munich', 'h_goals': '0', 'a_goals': '3', 'date': '2015-09-19 17:30:00', 'player_assisted': 'Jérôme Gondorf', 'lastAction': 'Cross'}, {'id': '77445', 'minute': '16', 'result': 'Goal', 'X': '0.870999984741211', 'Y': '0.44599998474121094', 'xG': '0.3524431884288788', 'player': 'Marcel Heller', 'h_a': 'a', 'player_id': '6', 'situation': 'OpenPlay', 'season': '2015', 'shotType': 'RightFoot', 'match_id': '1083', 'h_team': 'Borussia Dortmund', 'a_team': 'Darmstadt', 'h_goals': '2', 'a_goals': '2', 'date': '2015-09-27 19:30:00', 'player_assisted': 'Jérôme Gondorf', 'lastAction': 'Cross'}, {'id': '77903', 'minute': '26', 'result': 'Goal', 'X': '0.84', 'Y': '0.56', 'xG': '0.04806353524327278', 'player': 'Marcel Heller', 'h_a': 'h', 'player_id': '6', 'situation': 'OpenPlay', 'season': '2015', 'shotType': 'RightFoot', 'match_id': '1084', 'h_team': 'Darmstadt', 'a_team': 'Mainz 05', 'h_goals': '2', 'a_goals': '3', 'date': '2015-10-02 22:30:00', 'player_assisted': 'Jérôme Gondorf', 'lastAction': 'HeadPass'}, {'id': '77916', 'minute': '69', 'result': 'MissedShots', 'X': '0.840999984741211', 'Y': '0.545', 'xG': '0.056992415338754654', 'player': 'Marcel Heller', 'h_a': 'h', 'player_id': '6', 'situation': 'OpenPlay', 'season': '2015', 'shotType': 'RightFoot', 'match_id': '1084', 'h_team': 'Darmstadt', 'a_team': 'Mainz 05', 'h_goals': '2', 'a_goals': '3', 'date': '2015-10-02 22:30:00', 'player_assisted': None, 'lastAction': 'None'}, {'id': '78476', 'minute': '30', 'result': 'SavedShot', 'X': '0.8119999694824219', 'Y': '0.5129999923706055', 'xG': '0.061872731894254684', 'player': 'Marcel Heller', 'h_a': 'a', 'player_id': '6', 'situation': 'OpenPlay', 'season': '2015', 'shotType': 'LeftFoot', 'match_id': '1118', 'h_team': 'VfB Stuttgart', 'a_team': 'Darmstadt', 'h_goals': '2', 'a_goals': '0', 'date': '2015-11-01 18:30:00', 'player_assisted': None, 'lastAction': 'TakeOn'}, {'id': '78487', 'minute': '58', 'result': 'SavedShot', 'X': '0.8780000305175781', 'Y': '0.40599998474121096', 'xG': '0.06268817186355591', 'player': 'Marcel Heller', 'h_a': 'a', 'player_id': '6', 'situation': 'OpenPlay', 'season': '2015', 'shotType': 'RightFoot', 'match_id': '1118', 'h_team': 'VfB Stuttgart', 'a_team': 'Darmstadt', 'h_goals': '2', 'a_goals': '0', 'date': '2015-11-01 18:30:00', 'player_assisted': 'Jan Rosenthal', 'lastAction': 'Cross'}, {'id': '78493', 'minute': '70', 'result': 'MissedShots', 'X': '0.8819999694824219', 'Y': '0.6359999847412109', 'xG': '0.07108378410339355', 'player': 'Marcel Heller', 'h_a': 'a', 'player_id': '6', 'situation': 'OpenPlay', 'season': '2015', 'shotType': 'LeftFoot', 'match_id': '1118', 'h_team': 'VfB Stuttgart', 'a_team': 'Darmstadt', 'h_goals': '2', 'a_goals': '0', 'date': '2015-11-01 18:30:00', 'player_assisted': 'Tobias Kempe', 'lastAction': 'Pass'}, {'id': '78497', 'minute': '82', 'result': 'SavedShot', 'X': '0.9169999694824219', 'Y': '0.6370000076293946', 'xG': '0.4219215214252472', 'player': 'Marcel Heller', 'h_a': 'a', 'player_id': '6', 'situation': 'OpenPlay', 'season': '2015', 'shotType': 'LeftFoot', 'match_id': '1118', 'h_team': 'VfB Stuttgart', 'a_team': 'Darmstadt', 'h_goals': '2', 'a_goals': '0', 'date': '2015-11-01 18:30:00', 'player_assisted': 'Tobias Kempe', 'lastAction': 'Pass'}, {'id': '78846', 'minute': '46', 'result': 'Goal', 'X': '0.9369999694824219', 'Y': '0.47', 'xG': '0.42961370944976807', 'player': 'Marcel Heller', 'h_a': 'h', 'player_id': '6', 'situation': 'OpenPlay', 'season': '2015', 'shotType': 'Head', 'match_id': '1126', 'h_team': 'Darmstadt', 'a_team': 'Hamburger SV', 'h_goals': '1', 'a_goals': '1', 'date': '2015-11-07 21:30:00', 'player_assisted': 'Jérôme Gondorf', 'lastAction': 'Cross'}, {'id': '78858', 'minute': '89', 'result': 'SavedShot', 'X': '0.9209999847412109', 'Y': '0.47900001525878905', 'xG': '0.09962137043476105', 'player': 'Marcel Heller', 'h_a': 'h', 'player_id': '6', 'situation': 'OpenPlay', 'season': '2015', 'shotType': 'RightFoot', 'match_id': '1126', 'h_team': 'Darmstadt', 'a_team': 'Hamburger SV', 'h_goals': '1', 'a_goals': '1', 'date': '2015-11-07 21:30:00', 'player_assisted': None, 'lastAction': 'None'}, {'id': '79084', 'minute': '44', 'result': 'MissedShots', 'X': '0.88', 'Y': '0.34200000762939453', 'xG': '0.1094374805688858', 'player': 'Marcel Heller', 'h_a': 'a', 'player_id': '6', 'situation': 'OpenPlay', 'season': '2015', 'shotType': 'LeftFoot', 'match_id': '1137', 'h_team': 'Ingolstadt', 'a_team': 'Darmstadt', 'h_goals': '3', 'a_goals': '1', 'date': '2015-11-22 20:40:00', 'player_assisted': 'Jérôme Gondorf', 'lastAction': 'BallRecovery'}, {'id': '79503', 'minute': '46', 'result': 'MissedShots', 'X': '0.705', 'Y': '0.40299999237060546', 'xG': '0.01454789750277996', 'player': 'Marcel Heller', 'h_a': 'a', 'player_id': '6', 'situation': 'FromCorner', 'season': '2015', 'shotType': 'RightFoot', 'match_id': '1155', 'h_team': 'Eintracht Frankfurt', 'a_team': 'Darmstadt', 'h_goals': '0', 'a_goals': '1', 'date': '2015-12-06 20:30:00', 'player_assisted': None, 'lastAction': 'Rebound'}, {'id': '79515', 'minute': '81', 'result': 'SavedShot', 'X': '0.9469999694824218', 'Y': '0.5829999923706055', 'xG': '0.47086140513420105', 'player': 'Marcel Heller', 'h_a': 'a', 'player_id': '6', 'situation': 'OpenPlay', 'season': '2015', 'shotType': 'RightFoot', 'match_id': '1155', 'h_team': 'Eintracht Frankfurt', 'a_team': 'Darmstadt', 'h_goals': '0', 'a_goals': '1', 'date': '2015-12-06 20:30:00', 'player_assisted': 'Jérôme Gondorf', 'lastAction': 'TakeOn'}, {'id': '79866', 'minute': '27', 'result': 'Goal', 'X': '0.924000015258789', 'Y': '0.4929999923706055', 'xG': '0.11024012416601181', 'player': 'Marcel Heller', 'h_a': 'a', 'player_id': '6', 'situation': 'OpenPlay', 'season': '2015', 'shotType': 'RightFoot', 'match_id': '1173', 'h_team': 'Borussia M.Gladbach', 'a_team': 'Darmstadt', 'h_goals': '3', 'a_goals': '2', 'date': '2015-12-20 20:30:00', 'player_assisted': 'Sandro Wagner', 'lastAction': 'HeadPass'}, {'id': '79879', 'minute': '63', 'result': 'SavedShot', 'X': '0.9669999694824218', 'Y': '0.3089999961853027', 'xG': '0.024211060255765915', 'player': 'Marcel Heller', 'h_a': 'a', 'player_id': '6', 'situation': 'OpenPlay', 'season': '2015', 'shotType': 'RightFoot', 'match_id': '1173', 'h_team': 'Borussia M.Gladbach', 'a_team': 'Darmstadt', 'h_goals': '3', 'a_goals': '2', 'date': '2015-12-20 20:30:00', 'player_assisted': 'Tobias Kempe', 'lastAction': 'Cross'}, {'id': '79882', 'minute': '71', 'result': 'SavedShot', 'X': '0.904000015258789', 'Y': '0.35200000762939454', 'xG': '0.3344267010688782', 'player': 'Marcel Heller', 'h_a': 'a', 'player_id': '6', 'situation': 'OpenPlay', 'season': '2015', 'shotType': 'RightFoot', 'match_id': '1173', 'h_team': 'Borussia M.Gladbach', 'a_team': 'Darmstadt', 'h_goals': '3', 'a_goals': '2', 'date': '2015-12-20 20:30:00', 'player_assisted': 'Sandro Wagner', 'lastAction': 'Throughball'}, {'id': '80208', 'minute': '18', 'result': 'MissedShots', 'X': '0.73', 'Y': '0.5840000152587891', 'xG': '0.019468916580080986', 'player': 'Marcel Heller', 'h_a': 'a', 'player_id': '6', 'situation': 'FromCorner', 'season': '2015', 'shotType': 'RightFoot', 'match_id': '1176', 'h_team': 'Hannover 96', 'a_team': 'Darmstadt', 'h_goals': '1', 'a_goals': '2', 'date': '2016-01-23 18:30:00', 'player_assisted': 'Konstantin Rausch', 'lastAction': 'Pass'}, {'id': '80228', 'minute': '85', 'result': 'MissedShots', 'X': '0.8669999694824219', 'Y': '0.39799999237060546', 'xG': '0.3461560606956482', 'player': 'Marcel Heller', 'h_a': 'a', 'player_id': '6', 'situation': 'OpenPlay', 'season': '2015', 'shotType': 'RightFoot', 'match_id': '1176', 'h_team': 'Hannover 96', 'a_team': 'Darmstadt', 'h_goals': '1', 'a_goals': '2', 'date': '2016-01-23 18:30:00', 'player_assisted': 'Tobias Kempe', 'lastAction': 'Pass'}, {'id': '80705', 'minute': '56', 'result': 'MissedShots', 'X': '0.8830000305175781', 'Y': '0.415', 'xG': '0.11525189876556396', 'player': 'Marcel Heller', 'h_a': 'a', 'player_id': '6', 'situation': 'OpenPlay', 'season': '2015', 'shotType': 'RightFoot', 'match_id': '1200', 'h_team': 'Hoffenheim', 'a_team': 'Darmstadt', 'h_goals': '0', 'a_goals': '2', 'date': '2016-02-07 20:30:00', 'player_assisted': 'Jan Rosenthal', 'lastAction': 'Pass'}, {'id': '80717', 'minute': '94', 'result': 'MissedShots', 'X': '0.8580000305175781', 'Y': '0.5379999923706055', 'xG': '0.3226258456707001', 'player': 'Marcel Heller', 'h_a': 'a', 'player_id': '6', 'situation': 'OpenPlay', 'season': '2015', 'shotType': 'RightFoot', 'match_id': '1200', 'h_team': 'Hoffenheim', 'a_team': 'Darmstadt', 'h_goals': '0', 'a_goals': '2', 'date': '2016-02-07 20:30:00', 'player_assisted': 'Luca Caldirola', 'lastAction': 'Pass'}, {'id': '80962', 'minute': '57', 'result': 'SavedShot', 'X': '0.899000015258789', 'Y': '0.25', 'xG': '0.013967858627438545', 'player': 'Marcel Heller', 'h_a': 'h', 'player_id': '6', 'situation': 'SetPiece', 'season': '2015', 'shotType': 'RightFoot', 'match_id': '1202', 'h_team': 'Darmstadt', 'a_team': 'Bayer Leverkusen', 'h_goals': '1', 'a_goals': '2', 'date': '2016-02-13 18:30:00', 'player_assisted': None, 'lastAction': 'Aerial'}, {'id': '82158', 'minute': '26', 'result': 'SavedShot', 'X': '0.885', 'Y': '0.3160000038146973', 'xG': '0.04442876949906349', 'player': 'Marcel Heller', 'h_a': 'h', 'player_id': '6', 'situation': 'SetPiece', 'season': '2015', 'shotType': 'RightFoot', 'match_id': '1249', 'h_team': 'Darmstadt', 'a_team': 'Augsburg', 'h_goals': '2', 'a_goals': '2', 'date': '2016-03-12 18:30:00', 'player_assisted': None, 'lastAction': 'None'}, {'id': '82209', 'minute': '3', 'result': 'BlockedShot', 'X': '0.9390000152587891', 'Y': '0.34700000762939454', 'xG': '0.06855204701423645', 'player': 'Marcel Heller', 'h_a': 'a', 'player_id': '6', 'situation': 'OpenPlay', 'season': '2015', 'shotType': 'RightFoot', 'match_id': '1256', 'h_team': 'Wolfsburg', 'a_team': 'Darmstadt', 'h_goals': '1', 'a_goals': '1', 'date': '2016-03-19 18:30:00', 'player_assisted': 'Sandro Wagner', 'lastAction': 'Rebound'}, {'id': '82221', 'minute': '36', 'result': 'MissedShots', 'X': '0.8769999694824219', 'Y': '0.325', 'xG': '0.05151210352778435', 'player': 'Marcel Heller', 'h_a': 'a', 'player_id': '6', 'situation': 'OpenPlay', 'season': '2015', 'shotType': 'RightFoot', 'match_id': '1256', 'h_team': 'Wolfsburg', 'a_team': 'Darmstadt', 'h_goals': '1', 'a_goals': '1', 'date': '2016-03-19 18:30:00', 'player_assisted': None, 'lastAction': 'None'}, {'id': '82606', 'minute': '5', 'result': 'BlockedShot', 'X': '0.8859999847412109', 'Y': '0.2879999923706055', 'xG': '0.02900378406047821', 'player': 'Marcel Heller', 'h_a': 'h', 'player_id': '6', 'situation': 'SetPiece', 'season': '2015', 'shotType': 'RightFoot', 'match_id': '1268', 'h_team': 'Darmstadt', 'a_team': 'VfB Stuttgart', 'h_goals': '2', 'a_goals': '2', 'date': '2016-04-02 17:30:00', 'player_assisted': None, 'lastAction': 'Rebound'}, {'id': '82698', 'minute': '65', 'result': 'MissedShots', 'X': '0.7440000152587891', 'Y': '0.36', 'xG': '0.02156858518719673', 'player': 'Marcel Heller', 'h_a': 'a', 'player_id': '6', 'situation': 'OpenPlay', 'season': '2015', 'shotType': 'RightFoot', 'match_id': '1275', 'h_team': 'Hamburger SV', 'a_team': 'Darmstadt', 'h_goals': '1', 'a_goals': '2', 'date': '2016-04-09 17:30:00', 'player_assisted': 'Mario Vrancic', 'lastAction': 'Chipped'}, {'id': '83240', 'minute': '60', 'result': 'BlockedShot', 'X': '0.8640000152587891', 'Y': '0.26399999618530273', 'xG': '0.03425401449203491', 'player': 'Marcel Heller', 'h_a': 'a', 'player_id': '6', 'situation': 'FromCorner', 'season': '2015', 'shotType': 'RightFoot', 'match_id': '1294', 'h_team': 'FC Cologne', 'a_team': 'Darmstadt', 'h_goals': '4', 'a_goals': '1', 'date': '2016-04-23 17:30:00', 'player_assisted': None, 'lastAction': 'Rebound'}, {'id': '83498', 'minute': '56', 'result': 'SavedShot', 'X': '0.8690000152587891', 'Y': '0.41900001525878905', 'xG': '0.017962023615837097', 'player': 'Marcel Heller', 'h_a': 'h', 'player_id': '6', 'situation': 'OpenPlay', 'season': '2015', 'shotType': 'Head', 'match_id': '1304', 'h_team': 'Darmstadt', 'a_team': 'Eintracht Frankfurt', 'h_goals': '1', 'a_goals': '2', 'date': '2016-04-30 17:30:00', 'player_assisted': 'Mario Vrancic', 'lastAction': 'Cross'}, {'id': '83682', 'minute': '19', 'result': 'MissedShots', 'X': '0.955999984741211', 'Y': '0.33799999237060546', 'xG': '0.05801200866699219', 'player': 'Marcel Heller', 'h_a': 'a', 'player_id': '6', 'situation': 'SetPiece', 'season': '2015', 'shotType': 'RightFoot', 'match_id': '1316', 'h_team': 'Hertha Berlin', 'a_team': 'Darmstadt', 'h_goals': '1', 'a_goals': '2', 'date': '2016-05-07 17:30:00', 'player_assisted': 'Sandro Wagner', 'lastAction': 'None'}, {'id': '127567', 'minute': '7', 'result': 'MissedShots', 'X': '0.769000015258789', 'Y': '0.6659999847412109', 'xG': '0.01642378233373165', 'player': 'Marcel Heller', 'h_a': 'a', 'player_id': '6', 'situation': 'FromCorner', 'season': '2016', 'shotType': 'RightFoot', 'match_id': '1331', 'h_team': 'FC Cologne', 'a_team': 'Darmstadt', 'h_goals': '2', 'a_goals': '0', 'date': '2016-08-27 17:30:00', 'player_assisted': None, 'lastAction': 'None'}, {'id': '127571', 'minute': '15', 'result': 'MissedShots', 'X': '0.7609999847412109', 'Y': '0.585', 'xG': '0.029766004532575607', 'player': 'Marcel Heller', 'h_a': 'a', 'player_id': '6', 'situation': 'OpenPlay', 'season': '2016', 'shotType': 'RightFoot', 'match_id': '1331', 'h_team': 'FC Cologne', 'a_team': 'Darmstadt', 'h_goals': '2', 'a_goals': '0', 'date': '2016-08-27 17:30:00', 'player_assisted': None, 'lastAction': 'TakeOn'}, {'id': '128552', 'minute': '63', 'result': 'BlockedShot', 'X': '0.9019999694824219', 'Y': '0.42700000762939455', 'xG': '0.10490541905164719', 'player': 'Marcel Heller', 'h_a': 'h', 'player_id': '6', 'situation': 'OpenPlay', 'season': '2016', 'shotType': 'LeftFoot', 'match_id': '1356', 'h_team': 'Darmstadt', 'a_team': 'Hoffenheim', 'h_goals': '1', 'a_goals': '1', 'date': '2016-09-20 22:00:00', 'player_assisted': 'Jérôme Gondorf', 'lastAction': 'Pass'}, {'id': '128734', 'minute': '47', 'result': 'MissedShots', 'X': '0.8769999694824219', 'Y': '0.62', 'xG': '0.02293563261628151', 'player': 'Marcel Heller', 'h_a': 'a', 'player_id': '6', 'situation': 'SetPiece', 'season': '2016', 'shotType': 'RightFoot', 'match_id': '1367', 'h_team': 'Augsburg', 'a_team': 'Darmstadt', 'h_goals': '1', 'a_goals': '0', 'date': '2016-09-24 17:30:00', 'player_assisted': 'Florian Jungwirth', 'lastAction': 'Aerial'}, {'id': '128995', 'minute': '45', 'result': 'BlockedShot', 'X': '0.8719999694824219', 'Y': '0.24100000381469727', 'xG': '0.044028133153915405', 'player': 'Marcel Heller', 'h_a': 'h', 'player_id': '6', 'situation': 'OpenPlay', 'season': '2016', 'shotType': 'RightFoot', 'match_id': '1376', 'h_team': 'Darmstadt', 'a_team': 'Werder Bremen', 'h_goals': '2', 'a_goals': '2', 'date': '2016-10-01 17:30:00', 'player_assisted': 'Jérôme Gondorf', 'lastAction': 'Chipped'}, {'id': '129555', 'minute': '22', 'result': 'MissedShots', 'X': '0.865', 'Y': '0.36700000762939455', 'xG': '0.03846995532512665', 'player': 'Marcel Heller', 'h_a': 'a', 'player_id': '6', 'situation': 'OpenPlay', 'season': '2016', 'shotType': 'RightFoot', 'match_id': '2810', 'h_team': 'Bayer Leverkusen', 'a_team': 'Darmstadt', 'h_goals': '3', 'a_goals': '2', 'date': '2016-11-05 18:30:00', 'player_assisted': 'Änis Ben-Hatira', 'lastAction': 'Cross'}, {'id': '129568', 'minute': '83', 'result': 'BlockedShot', 'X': '0.935', 'Y': '0.2929999923706055', 'xG': '0.028156418353319168', 'player': 'Marcel Heller', 'h_a': 'a', 'player_id': '6', 'situation': 'SetPiece', 'season': '2016', 'shotType': 'RightFoot', 'match_id': '2810', 'h_team': 'Bayer Leverkusen', 'a_team': 'Darmstadt', 'h_goals': '3', 'a_goals': '2', 'date': '2016-11-05 18:30:00', 'player_assisted': 'Jérôme Gondorf', 'lastAction': 'Pass'}, {'id': '130700', 'minute': '63', 'result': 'MissedShots', 'X': '0.7769999694824219', 'Y': '0.7440000152587891', 'xG': '0.02022058703005314', 'player': 'Marcel Heller', 'h_a': 'h', 'player_id': '6', 'situation': 'OpenPlay', 'season': '2016', 'shotType': 'RightFoot', 'match_id': '2820', 'h_team': 'Darmstadt', 'a_team': 'Ingolstadt', 'h_goals': '0', 'a_goals': '1', 'date': '2016-11-19 18:30:00', 'player_assisted': 'Leon Guwara', 'lastAction': 'Pass'}, {'id': '130709', 'minute': '88', 'result': 'SavedShot', 'X': '0.8319999694824218', 'Y': '0.6329999923706054', 'xG': '0.04287984222173691', 'player': 'Marcel Heller', 'h_a': 'h', 'player_id': '6', 'situation': 'OpenPlay', 'season': '2016', 'shotType': 'RightFoot', 'match_id': '2820', 'h_team': 'Darmstadt', 'a_team': 'Ingolstadt', 'h_goals': '0', 'a_goals': '1', 'date': '2016-11-19 18:30:00', 'player_assisted': None, 'lastAction': 'None'}, {'id': '130715', 'minute': '90', 'result': 'BlockedShot', 'X': '0.7730000305175782', 'Y': '0.5159999847412109', 'xG': '0.02247568592429161', 'player': 'Marcel Heller', 'h_a': 'h', 'player_id': '6', 'situation': 'FromCorner', 'season': '2016', 'shotType': 'RightFoot', 'match_id': '2820', 'h_team': 'Darmstadt', 'a_team': 'Ingolstadt', 'h_goals': '0', 'a_goals': '1', 'date': '2016-11-19 18:30:00', 'player_assisted': None, 'lastAction': 'None'}, {'id': '130995', 'minute': '5', 'result': 'Goal', 'X': '0.9230000305175782', 'Y': '0.45799999237060546', 'xG': '0.931094229221344', 'player': 'Marcel Heller', 'h_a': 'a', 'player_id': '6', 'situation': 'OpenPlay', 'season': '2016', 'shotType': 'RightFoot', 'match_id': '2831', 'h_team': 'Schalke 04', 'a_team': 'Darmstadt', 'h_goals': '3', 'a_goals': '1', 'date': '2016-11-27 18:30:00', 'player_assisted': 'Sandro Sirigu', 'lastAction': 'TakeOn'}, {'id': '131015', 'minute': '54', 'result': 'MissedShots', 'X': '0.765', 'Y': '0.6840000152587891', 'xG': '0.0363193117082119', 'player': 'Marcel Heller', 'h_a': 'a', 'player_id': '6', 'situation': 'OpenPlay', 'season': '2016', 'shotType': 'RightFoot', 'match_id': '2831', 'h_team': 'Schalke 04', 'a_team': 'Darmstadt', 'h_goals': '3', 'a_goals': '1', 'date': '2016-11-27 18:30:00', 'player_assisted': 'Victor Obinna', 'lastAction': 'Pass'}, {'id': '131023', 'minute': '90', 'result': 'MissedShots', 'X': '0.875999984741211', 'Y': '0.26600000381469724', 'xG': '0.03543352708220482', 'player': 'Marcel Heller', 'h_a': 'a', 'player_id': '6', 'situation': 'OpenPlay', 'season': '2016', 'shotType': 'RightFoot', 'match_id': '2831', 'h_team': 'Schalke 04', 'a_team': 'Darmstadt', 'h_goals': '3', 'a_goals': '1', 'date': '2016-11-27 18:30:00', 'player_assisted': None, 'lastAction': 'BlockedPass'}, {'id': '131632', 'minute': '4', 'result': 'BlockedShot', 'X': '0.875999984741211', 'Y': '0.7140000152587891', 'xG': '0.023097582161426544', 'player': 'Marcel Heller', 'h_a': 'h', 'player_id': '6', 'situation': 'OpenPlay', 'season': '2016', 'shotType': 'RightFoot', 'match_id': '3217', 'h_team': 'Darmstadt', 'a_team': 'Bayern Munich', 'h_goals': '0', 'a_goals': '1', 'date': '2016-12-18 18:30:00', 'player_assisted': 'Sandro Sirigu', 'lastAction': 'Chipped'}, {'id': '130829', 'minute': '25', 'result': 'BlockedShot', 'X': '0.8119999694824219', 'Y': '0.5129999923706055', 'xG': '0.05823633074760437', 'player': 'Marcel Heller', 'h_a': 'h', 'player_id': '6', 'situation': 'OpenPlay', 'season': '2016', 'shotType': 'LeftFoot', 'match_id': '3727', 'h_team': 'Darmstadt', 'a_team': 'Borussia M.Gladbach', 'h_goals': '0', 'a_goals': '0', 'date': '2017-01-21 17:30:00', 'player_assisted': None, 'lastAction': 'BallTouch'}, {'id': '130835', 'minute': '58', 'result': 'SavedShot', 'X': '0.7880000305175782', 'Y': '0.31', 'xG': '0.024588294327259064', 'player': 'Marcel Heller', 'h_a': 'h', 'player_id': '6', 'situation': 'OpenPlay', 'season': '2016', 'shotType': 'RightFoot', 'match_id': '3727', 'h_team': 'Darmstadt', 'a_team': 'Borussia M.Gladbach', 'h_goals': '0', 'a_goals': '0', 'date': '2017-01-21 17:30:00', 'player_assisted': 'Antonio-Mirko Colak', 'lastAction': 'Pass'}, {'id': '130841', 'minute': '74', 'result': 'BlockedShot', 'X': '0.8080000305175781', 'Y': '0.645', 'xG': '0.03498351201415062', 'player': 'Marcel Heller', 'h_a': 'h', 'player_id': '6', 'situation': 'OpenPlay', 'season': '2016', 'shotType': 'RightFoot', 'match_id': '3727', 'h_team': 'Darmstadt', 'a_team': 'Borussia M.Gladbach', 'h_goals': '0', 'a_goals': '0', 'date': '2017-01-21 17:30:00', 'player_assisted': 'Leon Guwara', 'lastAction': 'Pass'}, {'id': '131760', 'minute': '15', 'result': 'SavedShot', 'X': '0.8930000305175781', 'Y': '0.6270000076293946', 'xG': '0.07395412027835846', 'player': 'Marcel Heller', 'h_a': 'h', 'player_id': '6', 'situation': 'OpenPlay', 'season': '2016', 'shotType': 'RightFoot', 'match_id': '3751', 'h_team': 'Darmstadt', 'a_team': 'Borussia Dortmund', 'h_goals': '2', 'a_goals': '1', 'date': '2017-02-11 14:30:00', 'player_assisted': 'Jérôme Gondorf', 'lastAction': 'Chipped'}, {'id': '131767', 'minute': '35', 'result': 'MissedShots', 'X': '0.784000015258789', 'Y': '0.7659999847412109', 'xG': '0.016801225021481514', 'player': 'Marcel Heller', 'h_a': 'h', 'player_id': '6', 'situation': 'OpenPlay', 'season': '2016', 'shotType': 'RightFoot', 'match_id': '3751', 'h_team': 'Darmstadt', 'a_team': 'Borussia Dortmund', 'h_goals': '2', 'a_goals': '1', 'date': '2017-02-11 14:30:00', 'player_assisted': 'Fabian Holland', 'lastAction': 'Pass'}, {'id': '131783', 'minute': '88', 'result': 'SavedShot', 'X': '0.7069999694824218', 'Y': '0.5579999923706055', 'xG': '0.017938366159796715', 'player': 'Marcel Heller', 'h_a': 'h', 'player_id': '6', 'situation': 'OpenPlay', 'season': '2016', 'shotType': 'RightFoot', 'match_id': '3751', 'h_team': 'Darmstadt', 'a_team': 'Borussia Dortmund', 'h_goals': '2', 'a_goals': '1', 'date': '2017-02-11 14:30:00', 'player_assisted': None, 'lastAction': 'BallRecovery'}, {'id': '131787', 'minute': '4', 'result': 'SavedShot', 'X': '0.9630000305175781', 'Y': '0.6370000076293946', 'xG': '0.08008009195327759', 'player': 'Marcel Heller', 'h_a': 'a', 'player_id': '6', 'situation': 'OpenPlay', 'season': '2016', 'shotType': 'LeftFoot', 'match_id': '3760', 'h_team': 'Hoffenheim', 'a_team': 'Darmstadt', 'h_goals': '2', 'a_goals': '0', 'date': '2017-02-18 14:30:00', 'player_assisted': 'Sidney Sam', 'lastAction': 'BallTouch'}, {'id': '131790', 'minute': '14', 'result': 'SavedShot', 'X': '0.915', 'Y': '0.6869999694824219', 'xG': '0.08265841752290726', 'player': 'Marcel Heller', 'h_a': 'a', 'player_id': '6', 'situation': 'OpenPlay', 'season': '2016', 'shotType': 'RightFoot', 'match_id': '3760', 'h_team': 'Hoffenheim', 'a_team': 'Darmstadt', 'h_goals': '2', 'a_goals': '0', 'date': '2017-02-18 14:30:00', 'player_assisted': 'Jan Rosenthal', 'lastAction': 'Pass'}, {'id': '132262', 'minute': '46', 'result': 'Goal', 'X': '0.9359999847412109', 'Y': '0.5570000076293945', 'xG': '0.5155137777328491', 'player': 'Marcel Heller', 'h_a': 'h', 'player_id': '6', 'situation': 'OpenPlay', 'season': '2016', 'shotType': 'RightFoot', 'match_id': '3768', 'h_team': 'Darmstadt', 'a_team': 'Augsburg', 'h_goals': '1', 'a_goals': '2', 'date': '2017-02-25 14:30:00', 'player_assisted': 'Jérôme Gondorf', 'lastAction': 'Pass'}, {'id': '132269', 'minute': '69', 'result': 'MissedShots', 'X': '0.77', 'Y': '0.6719999694824219', 'xG': '0.023311283439397812', 'player': 'Marcel Heller', 'h_a': 'h', 'player_id': '6', 'situation': 'OpenPlay', 'season': '2016', 'shotType': 'RightFoot', 'match_id': '3768', 'h_team': 'Darmstadt', 'a_team': 'Augsburg', 'h_goals': '1', 'a_goals': '2', 'date': '2017-02-25 14:30:00', 'player_assisted': 'Jérôme Gondorf', 'lastAction': 'Pass'}, {'id': '133184', 'minute': '13', 'result': 'MissedShots', 'X': '0.8009999847412109', 'Y': '0.649000015258789', 'xG': '0.030048668384552002', 'player': 'Marcel Heller', 'h_a': 'a', 'player_id': '6', 'situation': 'OpenPlay', 'season': '2016', 'shotType': 'RightFoot', 'match_id': '3779', 'h_team': 'Werder Bremen', 'a_team': 'Darmstadt', 'h_goals': '2', 'a_goals': '0', 'date': '2017-03-04 14:30:00', 'player_assisted': None, 'lastAction': 'None'}, {'id': '133186', 'minute': '17', 'result': 'BlockedShot', 'X': '0.735999984741211', 'Y': '0.6930000305175781', 'xG': '0.013578466139733791', 'player': 'Marcel Heller', 'h_a': 'a', 'player_id': '6', 'situation': 'OpenPlay', 'season': '2016', 'shotType': 'RightFoot', 'match_id': '3779', 'h_team': 'Werder Bremen', 'a_team': 'Darmstadt', 'h_goals': '2', 'a_goals': '0', 'date': '2017-03-04 14:30:00', 'player_assisted': 'Fabian Holland', 'lastAction': 'Pass'}, {'id': '133188', 'minute': '18', 'result': 'BlockedShot', 'X': '0.8919999694824219', 'Y': '0.6659999847412109', 'xG': '0.05393734946846962', 'player': 'Marcel Heller', 'h_a': 'a', 'player_id': '6', 'situation': 'OpenPlay', 'season': '2016', 'shotType': 'RightFoot', 'match_id': '3779', 'h_team': 'Werder Bremen', 'a_team': 'Darmstadt', 'h_goals': '2', 'a_goals': '0', 'date': '2017-03-04 14:30:00', 'player_assisted': None, 'lastAction': 'Rebound'}, {'id': '133187', 'minute': '18', 'result': 'BlockedShot', 'X': '0.9', 'Y': '0.6819999694824219', 'xG': '0.02986111119389534', 'player': 'Marcel Heller', 'h_a': 'a', 'player_id': '6', 'situation': 'OpenPlay', 'season': '2016', 'shotType': 'RightFoot', 'match_id': '3779', 'h_team': 'Werder Bremen', 'a_team': 'Darmstadt', 'h_goals': '2', 'a_goals': '0', 'date': '2017-03-04 14:30:00', 'player_assisted': 'Sandro Sirigu', 'lastAction': 'Cross'}, {'id': '133196', 'minute': '63', 'result': 'SavedShot', 'X': '0.8419999694824218', 'Y': '0.664000015258789', 'xG': '0.043951280415058136', 'player': 'Marcel Heller', 'h_a': 'a', 'player_id': '6', 'situation': 'OpenPlay', 'season': '2016', 'shotType': 'RightFoot', 'match_id': '3779', 'h_team': 'Werder Bremen', 'a_team': 'Darmstadt', 'h_goals': '2', 'a_goals': '0', 'date': '2017-03-04 14:30:00', 'player_assisted': 'Fabian Holland', 'lastAction': 'Pass'}, {'id': '133574', 'minute': '35', 'result': 'MissedShots', 'X': '0.8519999694824218', 'Y': '0.5279999923706055', 'xG': '0.0818806067109108', 'player': 'Marcel Heller', 'h_a': 'a', 'player_id': '6', 'situation': 'OpenPlay', 'season': '2016', 'shotType': 'RightFoot', 'match_id': '3808', 'h_team': 'RasenBallsport Leipzig', 'a_team': 'Darmstadt', 'h_goals': '4', 'a_goals': '0', 'date': '2017-04-01 14:30:00', 'player_assisted': 'Sandro Sirigu', 'lastAction': 'Pass'}, {'id': '134256', 'minute': '18', 'result': 'MissedShots', 'X': '0.749000015258789', 'Y': '0.6959999847412109', 'xG': '0.012484950944781303', 'player': 'Marcel Heller', 'h_a': 'h', 'player_id': '6', 'situation': 'FromCorner', 'season': '2016', 'shotType': 'RightFoot', 'match_id': '3816', 'h_team': 'Darmstadt', 'a_team': 'Bayer Leverkusen', 'h_goals': '0', 'a_goals': '2', 'date': '2017-04-05 19:00:00', 'player_assisted': 'Sidney Sam', 'lastAction': 'Aerial'}, {'id': '133024', 'minute': '37', 'result': 'MissedShots', 'X': '0.8180000305175781', 'Y': '0.649000015258789', 'xG': '0.04664003476500511', 'player': 'Marcel Heller', 'h_a': 'h', 'player_id': '6', 'situation': 'OpenPlay', 'season': '2016', 'shotType': 'RightFoot', 'match_id': '3833', 'h_team': 'Darmstadt', 'a_team': 'Schalke 04', 'h_goals': '2', 'a_goals': '1', 'date': '2017-04-16 16:30:00', 'player_assisted': 'Mario Vrancic', 'lastAction': 'Pass'}, {'id': '134629', 'minute': '53', 'result': 'MissedShots', 'X': '0.7030000305175781', 'Y': '0.64', 'xG': '0.020311987027525902', 'player': 'Marcel Heller', 'h_a': 'h', 'player_id': '6', 'situation': 'OpenPlay', 'season': '2016', 'shotType': 'RightFoot', 'match_id': '3849', 'h_team': 'Darmstadt', 'a_team': 'Freiburg', 'h_goals': '3', 'a_goals': '0', 'date': '2017-04-29 14:30:00', 'player_assisted': 'Mario Vrancic', 'lastAction': 'Pass'}, {'id': '134640', 'minute': '76', 'result': 'MissedShots', 'X': '0.9', 'Y': '0.13199999809265137', 'xG': '0.0616481639444828', 'player': 'Marcel Heller', 'h_a': 'h', 'player_id': '6', 'situation': 'OpenPlay', 'season': '2016', 'shotType': 'RightFoot', 'match_id': '3849', 'h_team': 'Darmstadt', 'a_team': 'Freiburg', 'h_goals': '3', 'a_goals': '0', 'date': '2017-04-29 14:30:00', 'player_assisted': 'Markus Steinhöfer', 'lastAction': 'Pass'}, {'id': '133427', 'minute': '4', 'result': 'MissedShots', 'X': '0.855999984741211', 'Y': '0.7080000305175781', 'xG': '0.040230199694633484', 'player': 'Marcel Heller', 'h_a': 'h', 'player_id': '6', 'situation': 'FromCorner', 'season': '2016', 'shotType': 'RightFoot', 'match_id': '3872', 'h_team': 'Darmstadt', 'a_team': 'Hertha Berlin', 'h_goals': '0', 'a_goals': '2', 'date': '2017-05-13 14:30:00', 'player_assisted': 'Mario Vrancic', 'lastAction': 'Pass'}, {'id': '133439', 'minute': '60', 'result': 'SavedShot', 'X': '0.93', 'Y': '0.36900001525878906', 'xG': '0.26595109701156616', 'player': 'Marcel Heller', 'h_a': 'h', 'player_id': '6', 'situation': 'OpenPlay', 'season': '2016', 'shotType': 'LeftFoot', 'match_id': '3872', 'h_team': 'Darmstadt', 'a_team': 'Hertha Berlin', 'h_goals': '0', 'a_goals': '2', 'date': '2017-05-13 14:30:00', 'player_assisted': None, 'lastAction': 'None'}, {'id': '127736', 'minute': '15', 'result': 'MissedShots', 'X': '0.9619999694824218', 'Y': '0.6759999847412109', 'xG': '0.05776314437389374', 'player': 'Marcel Heller', 'h_a': 'a', 'player_id': '6', 'situation': 'OpenPlay', 'season': '2016', 'shotType': 'RightFoot', 'match_id': '3876', 'h_team': 'Borussia M.Gladbach', 'a_team': 'Darmstadt', 'h_goals': '2', 'a_goals': '2', 'date': '2017-05-20 14:30:00', 'player_assisted': None, 'lastAction': 'None'}, {'id': '127741', 'minute': '29', 'result': 'BlockedShot', 'X': '0.97', 'Y': '0.649000015258789', 'xG': '0.012627964839339256', 'player': 'Marcel Heller', 'h_a': 'a', 'player_id': '6', 'situation': 'OpenPlay', 'season': '2016', 'shotType': 'Head', 'match_id': '3876', 'h_team': 'Borussia M.Gladbach', 'a_team': 'Darmstadt', 'h_goals': '2', 'a_goals': '2', 'date': '2017-05-20 14:30:00', 'player_assisted': 'Sidney Sam', 'lastAction': 'Cross'}, {'id': '127746', 'minute': '46', 'result': 'MissedShots', 'X': '0.82', 'Y': '0.705', 'xG': '0.026910558342933655', 'player': 'Marcel Heller', 'h_a': 'a', 'player_id': '6', 'situation': 'OpenPlay', 'season': '2016', 'shotType': 'RightFoot', 'match_id': '3876', 'h_team': 'Borussia M.Gladbach', 'a_team': 'Darmstadt', 'h_goals': '2', 'a_goals': '2', 'date': '2017-05-20 14:30:00', 'player_assisted': 'Hamit Altintop', 'lastAction': 'Pass'}, {'id': '127754', 'minute': '69', 'result': 'SavedShot', 'X': '0.879000015258789', 'Y': '0.725999984741211', 'xG': '0.02569541521370411', 'player': 'Marcel Heller', 'h_a': 'a', 'player_id': '6', 'situation': 'OpenPlay', 'season': '2016', 'shotType': 'RightFoot', 'match_id': '3876', 'h_team': 'Borussia M.Gladbach', 'a_team': 'Darmstadt', 'h_goals': '2', 'a_goals': '2', 'date': '2017-05-20 14:30:00', 'player_assisted': 'Sven Schipplock', 'lastAction': 'Cross'}, {'id': '127763', 'minute': '89', 'result': 'Goal', 'X': '0.9569999694824218', 'Y': '0.41200000762939454', 'xG': '0.10037408769130707', 'player': 'Marcel Heller', 'h_a': 'a', 'player_id': '6', 'situation': 'FromCorner', 'season': '2016', 'shotType': 'RightFoot', 'match_id': '3876', 'h_team': 'Borussia M.Gladbach', 'a_team': 'Darmstadt', 'h_goals': '2', 'a_goals': '2', 'date': '2017-05-20 14:30:00', 'player_assisted': None, 'lastAction': 'None'}, {'id': '127762', 'minute': '89', 'result': 'BlockedShot', 'X': '0.8130000305175781', 'Y': '0.720999984741211', 'xG': '0.024384023621678352', 'player': 'Marcel Heller', 'h_a': 'a', 'player_id': '6', 'situation': 'OpenPlay', 'season': '2016', 'shotType': 'RightFoot', 'match_id': '3876', 'h_team': 'Borussia M.Gladbach', 'a_team': 'Darmstadt', 'h_goals': '2', 'a_goals': '2', 'date': '2017-05-20 14:30:00', 'player_assisted': 'Leon Guwara', 'lastAction': 'Pass'}, {'id': '166172', 'minute': '86', 'result': 'SavedShot', 'X': '0.9290000152587891', 'Y': '0.38799999237060545', 'xG': '0.05189923569560051', 'player': 'Marcel Heller', 'h_a': 'h', 'player_id': '6', 'situation': 'OpenPlay', 'season': '2017', 'shotType': 'Head', 'match_id': '8272', 'h_team': 'Augsburg', 'a_team': 'Borussia M.Gladbach', 'h_goals': '2', 'a_goals': '2', 'date': '2017-08-26 14:30:00', 'player_assisted': 'Caiuby', 'lastAction': 'Cross'}, {'id': '166174', 'minute': '88', 'result': 'SavedShot', 'X': '0.8730000305175781', 'Y': '0.40799999237060547', 'xG': '0.06835534423589706', 'player': 'Marcel Heller', 'h_a': 'h', 'player_id': '6', 'situation': 'OpenPlay', 'season': '2017', 'shotType': 'LeftFoot', 'match_id': '8272', 'h_team': 'Augsburg', 'a_team': 'Borussia M.Gladbach', 'h_goals': '2', 'a_goals': '2', 'date': '2017-08-26 14:30:00', 'player_assisted': None, 'lastAction': 'Rebound'}, {'id': '167094', 'minute': '83', 'result': 'MissedShots', 'X': '0.9069999694824219', 'Y': '0.5629999923706055', 'xG': '0.2923336923122406', 'player': 'Marcel Heller', 'h_a': 'h', 'player_id': '6', 'situation': 'OpenPlay', 'season': '2017', 'shotType': 'Head', 'match_id': '8297', 'h_team': 'Augsburg', 'a_team': 'RasenBallsport Leipzig', 'h_goals': '1', 'a_goals': '0', 'date': '2017-09-19 19:30:00', 'player_assisted': 'Daniel Opare', 'lastAction': 'Cross'}, {'id': '168668', 'minute': '72', 'result': 'MissedShots', 'X': '0.945', 'Y': '0.6359999847412109', 'xG': '0.0938020646572113', 'player': 'Marcel Heller', 'h_a': 'a', 'player_id': '6', 'situation': 'OpenPlay', 'season': '2017', 'shotType': 'LeftFoot', 'match_id': '8343', 'h_team': 'Werder Bremen', 'a_team': 'Augsburg', 'h_goals': '0', 'a_goals': '3', 'date': '2017-10-29 14:30:00', 'player_assisted': 'Daniel Baier', 'lastAction': 'Pass'}, {'id': '179740', 'minute': '32', 'result': 'ShotOnPost', 'X': '0.8819999694824219', 'Y': '0.3729999923706055', 'xG': '0.04943408444523811', 'player': 'Marcel Heller', 'h_a': 'h', 'player_id': '6', 'situation': 'OpenPlay', 'season': '2017', 'shotType': 'RightFoot', 'match_id': '8392', 'h_team': 'Augsburg', 'a_team': 'Hertha Berlin', 'h_goals': '1', 'a_goals': '1', 'date': '2017-12-10 17:00:00', 'player_assisted': 'Raphael Framberger', 'lastAction': 'Cross'}, {'id': '183804', 'minute': '49', 'result': 'MissedShots', 'X': '0.93', 'Y': '0.5790000152587891', 'xG': '0.09201542288064957', 'player': 'Marcel Heller', 'h_a': 'h', 'player_id': '6', 'situation': 'OpenPlay', 'season': '2017', 'shotType': 'RightFoot', 'match_id': '8406', 'h_team': 'Augsburg', 'a_team': 'Freiburg', 'h_goals': '3', 'a_goals': '3', 'date': '2017-12-16 14:30:00', 'player_assisted': 'Caiuby', 'lastAction': 'Cross'}, {'id': '189877', 'minute': '66', 'result': 'MissedShots', 'X': '0.8269999694824218', 'Y': '0.66', 'xG': '0.03610512986779213', 'player': 'Marcel Heller', 'h_a': 'a', 'player_id': '6', 'situation': 'OpenPlay', 'season': '2017', 'shotType': 'RightFoot', 'match_id': '8434', 'h_team': 'FC Cologne', 'a_team': 'Augsburg', 'h_goals': '1', 'a_goals': '1', 'date': '2018-01-27 14:30:00', 'player_assisted': 'Rani Khedira', 'lastAction': 'Tackle'}, {'id': '194809', 'minute': '4', 'result': 'BlockedShot', 'X': '0.874000015258789', 'Y': '0.3', 'xG': '0.0337892584502697', 'player': 'Marcel Heller', 'h_a': 'h', 'player_id': '6', 'situation': 'OpenPlay', 'season': '2017', 'shotType': 'RightFoot', 'match_id': '8443', 'h_team': 'Augsburg', 'a_team': 'Eintracht Frankfurt', 'h_goals': '3', 'a_goals': '0', 'date': '2018-02-04 14:30:00', 'player_assisted': 'Philipp Max', 'lastAction': 'Cross'}, {'id': '194824', 'minute': '50', 'result': 'SavedShot', 'X': '0.9059999847412109', 'Y': '0.40099998474121096', 'xG': '0.3835284411907196', 'player': 'Marcel Heller', 'h_a': 'h', 'player_id': '6', 'situation': 'OpenPlay', 'season': '2017', 'shotType': 'RightFoot', 'match_id': '8443', 'h_team': 'Augsburg', 'a_team': 'Eintracht Frankfurt', 'h_goals': '3', 'a_goals': '0', 'date': '2018-02-04 14:30:00', 'player_assisted': 'Caiuby', 'lastAction': 'Cross'}, {'id': '196757', 'minute': '1', 'result': 'MissedShots', 'X': '0.8880000305175781', 'Y': '0.6990000152587891', 'xG': '0.055059511214494705', 'player': 'Marcel Heller', 'h_a': 'h', 'player_id': '6', 'situation': 'OpenPlay', 'season': '2017', 'shotType': 'RightFoot', 'match_id': '8463', 'h_team': 'Augsburg', 'a_team': 'VfB Stuttgart', 'h_goals': '0', 'a_goals': '1', 'date': '2018-02-18 14:30:00', 'player_assisted': 'Ja-Cheol Koo', 'lastAction': 'Pass'}, {'id': '211053', 'minute': '88', 'result': 'SavedShot', 'X': '0.919000015258789', 'Y': '0.3370000076293945', 'xG': '0.13151304423809052', 'player': 'Marcel Heller', 'h_a': 'h', 'player_id': '6', 'situation': 'OpenPlay', 'season': '2017', 'shotType': 'RightFoot', 'match_id': '8534', 'h_team': 'Augsburg', 'a_team': 'Mainz 05', 'h_goals': '2', 'a_goals': '0', 'date': '2018-04-22 13:30:00', 'player_assisted': None, 'lastAction': 'BallRecovery'}]\n"
     ]
    }
   ],
   "source": [
    "for el in scripts:\n",
    "\tif \"shotsData\" in el.text:\n",
    "\t\tfull_script_string = el.text.strip()\n",
    "\t\tshots_info = full_script_string.split(\"),\")[0]\n",
    "\t\tplayer_info = full_script_string.split(\"),\")[1]\n",
    "\t\tprint(format_info(shots_info))\n"
   ]
  },
  {
   "cell_type": "code",
   "execution_count": null,
   "metadata": {},
   "outputs": [],
   "source": []
  }
 ],
 "metadata": {
  "interpreter": {
   "hash": "7caa558ac1ec4431671b5a2dff570158c402df94a34ac7616ce11c70673fcc3d"
  },
  "kernelspec": {
   "display_name": "Python 3.10.2 64-bit",
   "language": "python",
   "name": "python3"
  },
  "language_info": {
   "codemirror_mode": {
    "name": "ipython",
    "version": 3
   },
   "file_extension": ".py",
   "mimetype": "text/x-python",
   "name": "python",
   "nbconvert_exporter": "python",
   "pygments_lexer": "ipython3",
   "version": "3.10.2"
  },
  "orig_nbformat": 4
 },
 "nbformat": 4,
 "nbformat_minor": 2
}
